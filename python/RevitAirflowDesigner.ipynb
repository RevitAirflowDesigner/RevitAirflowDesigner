{
 "cells": [
  {
   "cell_type": "code",
   "execution_count": 12,
   "metadata": {
    "collapsed": true
   },
   "outputs": [],
   "source": [
    "import os\n",
    "import copy\n",
    "import json\n",
    "import time\n",
    "import pandas as pd\n",
    "import collections\n",
    "import networkx as nx\n",
    "import matplotlib.pyplot as plt\n",
    "from itertools import combinations, permutations, product\n",
    "\n",
    "%matplotlib inline  "
   ]
  },
  {
   "cell_type": "code",
   "execution_count": 13,
   "metadata": {
    "collapsed": false
   },
   "outputs": [],
   "source": [
    "class BaseGraph:\n",
    "    def __init__(self, inputs):\n",
    "        self.inputs = inputs\n",
    "        self.edge_list = None\n",
    "        self.start_list = None\n",
    "        self.end_list = None\n",
    "        self.graph = nx.Graph()\n",
    "    \n",
    "    def create_edge_list(self):\n",
    "        # create list of edges\n",
    "        elist = []\n",
    "        for i, val in enumerate(self.inputs['Edges']):\n",
    "            e1 = val['Node1']\n",
    "            e2 = val['Node2']\n",
    "            elist.append((e1, e2, ))\n",
    "            \n",
    "        self.edge_list = elist\n",
    "        \n",
    "    def create_node_list(self):\n",
    "        # Create list of starting and ending nodes\n",
    "        start_list = []\n",
    "        end_list = []\n",
    "        for i, val in enumerate(self.inputs['Nodes']):\n",
    "            if val['NodeType'] == 'Shaft':\n",
    "                start_list.append(val['Id'])\n",
    "            if val['NodeType'] == 'Vav':\n",
    "                end_list.append(val['Id'])\n",
    "                \n",
    "        self.start_list = start_list\n",
    "        self.end_list = end_list\n",
    "        \n",
    "    def add_edges_to_graph(self):\n",
    "        self.graph.add_edges_from(self.edge_list)\n",
    "        \n",
    "    def print_graph(self):\n",
    "        nx.draw(self.graph, with_labels=True, font_weight='bold')\n",
    "        "
   ]
  },
  {
   "cell_type": "code",
   "execution_count": 14,
   "metadata": {
    "collapsed": true
   },
   "outputs": [],
   "source": [
    "class RouteOptions:\n",
    "    def __init__(self, base_graph, source, targets):\n",
    "        self.base_graph = base_graph\n",
    "        self.source = source\n",
    "        self.targets = targets\n",
    "        self.individual_paths = None\n",
    "        self.path_combinations = None\n",
    "        self.graph_options = None\n",
    "        \n",
    "    def create_all_paths_to_each_target(self):\n",
    "        paths = {}\n",
    "        for target in self.targets:\n",
    "            target_key = str(target)\n",
    "            paths.update({target_key: []})\n",
    "            #paths.update({target_key: {paths:[]}})\n",
    "            for path in nx.all_simple_paths(self.base_graph, source=self.source, target=target):\n",
    "                #print(paths[target_key])\n",
    "                paths[target_key].append({\"source\": self.source, \"target\": target, \"path\": path})\n",
    "                \n",
    "        self.individual_paths = paths\n",
    "        \n",
    "    def create_all_path_combinations(self):\n",
    "        # Create list of combinations of paths\n",
    "        path_combinations = []\n",
    "        for target in self.individual_paths:\n",
    "            #print(list(range(0, len(paths[target])+1)))\n",
    "            path_combinations.append(list(range(0, len(self.individual_paths[target]))))\n",
    "\n",
    "        self.path_combinations = list(product(*path_combinations))\n",
    "        #path_combinations\n",
    "    \n",
    "    def create_graph_options(self):\n",
    "        # Create new graphs for each combination\n",
    "        final_graphs = []\n",
    "\n",
    "        # Loop for each path combination\n",
    "        for path_combination in self.path_combinations:\n",
    "            #print(\"\")\n",
    "            #print(\"path_combination: \" + str(path_combination))\n",
    "            new_graph = nx.Graph()\n",
    "\n",
    "            # Loop for each target\n",
    "            for target_number, target in enumerate(self.targets):\n",
    "                #print(\"target_number: \" + str(target_number))\n",
    "                edge_list = []\n",
    "\n",
    "                my_path = self.individual_paths[str(target)][path_combination[target_number]]['path']\n",
    "\n",
    "                # Loop for each node in path\n",
    "                for i in range(0, len(my_path)-1):\n",
    "                    edge_list.append((my_path[i], my_path[i+1]))\n",
    "\n",
    "                G1 = nx.Graph()\n",
    "                G1.add_edges_from(edge_list)\n",
    "\n",
    "                #print(\"edge_list: \" + str(edge_list))\n",
    "\n",
    "                if target_number > 0:\n",
    "                    new_graph = nx.compose(G1, new_graph)\n",
    "                else:\n",
    "                    new_graph = G1\n",
    "\n",
    "            final_graphs.append(new_graph)\n",
    "\n",
    "        #print(\"\")\n",
    "        #print(final_graphs)\n",
    "        self.graph_options = final_graphs\n",
    "        \n",
    "        print('number of graphs: ' + str(len(self.graph_options)))\n",
    "        \n",
    "    def print_graph_options(self):\n",
    "        fig = plt.figure(figsize=(10, 5*(len(self.graph_options))))\n",
    "        for i, F in enumerate(self.graph_options):\n",
    "            ax = fig.add_subplot(len(self.graph_options),1,i+1)\n",
    "            nx.draw(F, with_labels=True, font_weight='bold')\n",
    "\n",
    "        plt.show()"
   ]
  },
  {
   "cell_type": "code",
   "execution_count": 15,
   "metadata": {
    "collapsed": false
   },
   "outputs": [],
   "source": [
    "t_start = time.time()"
   ]
  },
  {
   "cell_type": "code",
   "execution_count": 16,
   "metadata": {
    "collapsed": true
   },
   "outputs": [],
   "source": [
    "filename = 'Arch Model 4.json'"
   ]
  },
  {
   "cell_type": "code",
   "execution_count": 17,
   "metadata": {
    "collapsed": false
   },
   "outputs": [],
   "source": [
    "with open(os.path.join('..', 'models', filename)) as json_data:\n",
    "#with open(os.path.join(filename)) as json_data:\n",
    "    inputs = json.load(json_data)\n",
    "\n",
    "#print(inputs)"
   ]
  },
  {
   "cell_type": "code",
   "execution_count": 18,
   "metadata": {
    "collapsed": false
   },
   "outputs": [],
   "source": [
    "# Run calclations to create base mesh\n",
    "base_graph = BaseGraph(inputs)\n",
    "base_graph.create_edge_list()\n",
    "base_graph.create_node_list()\n",
    "base_graph.add_edges_to_graph()\n",
    "#base_graph.print_graph()"
   ]
  },
  {
   "cell_type": "code",
   "execution_count": 23,
   "metadata": {
    "collapsed": false
   },
   "outputs": [
    {
     "name": "stdout",
     "output_type": "stream",
     "text": [
      "number of graphs: 32\n"
     ]
    }
   ],
   "source": [
    "# Run calculations to create options\n",
    "\n",
    "route_option_list = []\n",
    "# Loop for each shaft option\n",
    "#print('Number of shafts: ' + str(len(base_graph.start_list)))\n",
    "#print('')\n",
    "\n",
    "for start_node in base_graph.start_list:\n",
    "    #print('Start node: ' + str(start_node))\n",
    "    route_options = RouteOptions(base_graph.graph, start_node, base_graph.end_list)\n",
    "    route_options.create_all_paths_to_each_target()\n",
    "    route_options.create_all_path_combinations()\n",
    "    route_options.create_graph_options()\n",
    "    \n",
    "    route_option_list.append(route_options)\n",
    "    #route_options.print_graph_options()\n",
    "    #print('')"
   ]
  },
  {
   "cell_type": "code",
   "execution_count": 41,
   "metadata": {
    "collapsed": false
   },
   "outputs": [
    {
     "name": "stdout",
     "output_type": "stream",
     "text": [
      "ca5699eb-5fbf-49e0-b030-42f100b1d06e-000eb891\n",
      "0.0\n",
      "ca5699eb-5fbf-49e0-b030-42f100b1d06e-000eb888\n",
      "0.0\n",
      "ca5699eb-5fbf-49e0-b030-42f100b1d06e-000eb88b\n",
      "0.0\n",
      "ca5699eb-5fbf-49e0-b030-42f100b1d06e-000eb88e\n",
      "0.0\n",
      "ca5699eb-5fbf-49e0-b030-42f100b1d06e-000eb897\n",
      "0.0\n"
     ]
    }
   ],
   "source": [
    "vav_nodes = [x for x in inputs['Nodes'] if x['NodeType'] == 'Vav']\n",
    "space_Ids = [x['SpaceId'] for x in vav_nodes]\n",
    "space_Ids\n",
    "for x in space_Ids:\n",
    "    for y in inputs['Spaces']:\n",
    "        if y['UniqueId'] == x:\n",
    "            print(x)\n",
    "            print(y['Airflow'])"
   ]
  },
  {
   "cell_type": "code",
   "execution_count": 42,
   "metadata": {
    "collapsed": false
   },
   "outputs": [],
   "source": [
    "#inputs['Spaces']"
   ]
  },
  {
   "cell_type": "code",
   "execution_count": 44,
   "metadata": {
    "collapsed": false
   },
   "outputs": [],
   "source": [
    "#route_option_list[0].graph_options[0].edges()\n",
    "#inputs['Nodes']"
   ]
  },
  {
   "cell_type": "code",
   "execution_count": 20,
   "metadata": {
    "collapsed": false
   },
   "outputs": [
    {
     "name": "stdout",
     "output_type": "stream",
     "text": [
      "time elapsed: 6.06571364402771\n"
     ]
    }
   ],
   "source": [
    "t_stop = time.time()\n",
    "print('time elapsed: ' + str(t_stop - t_start))"
   ]
  },
  {
   "cell_type": "code",
   "execution_count": 21,
   "metadata": {
    "collapsed": false
   },
   "outputs": [],
   "source": [
    "# Print the edges for the final_graphs\n",
    "#for final_graph in final_graphs:\n",
    "#    print(final_graph.edges())"
   ]
  },
  {
   "cell_type": "code",
   "execution_count": 22,
   "metadata": {
    "collapsed": false
   },
   "outputs": [
    {
     "data": {
      "text/plain": [
       "'\\n# Find and remove closed loop solutions\\n\\n# Determine closed loops\\nG = final_graphs[0]\\nDG = nx.DiGraph(G)\\nsimple_cycles = list(nx.simple_cycles(DG))\\nsimple_cycles = [x for x in simple_cycles if len(x) > 2]\\n\\nfor closed_loop in simple_cycles:\\n    # Loop for each node in path\\n    closed_loop_list = []\\n    closed_loop = simple_cycles[0]\\n    for i in range(0, len(closed_loop)-1):\\n        closed_loop_list.append((closed_loop[i], closed_loop[i+1]))\\n    closed_loop_list.insert(0, (0, 1))    \\n\\n    # Remove graph if it matches cycle\\n    for i, final_graph in enumerate(final_graphs):\\n        #print(my_closed_loop)\\n        if final_graphs[i].edges() == closed_loop_list:\\n            final_graphs.remove(final_graph)\\n'"
      ]
     },
     "execution_count": 22,
     "metadata": {},
     "output_type": "execute_result"
    }
   ],
   "source": [
    "\"\"\"\n",
    "# Find and remove closed loop solutions\n",
    "\n",
    "# Determine closed loops\n",
    "G = final_graphs[0]\n",
    "DG = nx.DiGraph(G)\n",
    "simple_cycles = list(nx.simple_cycles(DG))\n",
    "simple_cycles = [x for x in simple_cycles if len(x) > 2]\n",
    "\n",
    "for closed_loop in simple_cycles:\n",
    "    # Loop for each node in path\n",
    "    closed_loop_list = []\n",
    "    closed_loop = simple_cycles[0]\n",
    "    for i in range(0, len(closed_loop)-1):\n",
    "        closed_loop_list.append((closed_loop[i], closed_loop[i+1]))\n",
    "    closed_loop_list.insert(0, (0, 1))    \n",
    "\n",
    "    # Remove graph if it matches cycle\n",
    "    for i, final_graph in enumerate(final_graphs):\n",
    "        #print(my_closed_loop)\n",
    "        if final_graphs[i].edges() == closed_loop_list:\n",
    "            final_graphs.remove(final_graph)\n",
    "\"\"\""
   ]
  },
  {
   "cell_type": "code",
   "execution_count": null,
   "metadata": {
    "collapsed": true
   },
   "outputs": [],
   "source": []
  }
 ],
 "metadata": {
  "kernelspec": {
   "display_name": "Python 3",
   "language": "python",
   "name": "python3"
  },
  "language_info": {
   "codemirror_mode": {
    "name": "ipython",
    "version": 3
   },
   "file_extension": ".py",
   "mimetype": "text/x-python",
   "name": "python",
   "nbconvert_exporter": "python",
   "pygments_lexer": "ipython3",
   "version": "3.6.0"
  }
 },
 "nbformat": 4,
 "nbformat_minor": 2
}
