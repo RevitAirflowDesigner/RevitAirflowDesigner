{
 "cells": [
  {
   "cell_type": "code",
   "execution_count": 221,
   "metadata": {
    "collapsed": true
   },
   "outputs": [],
   "source": [
    "import os\n",
    "import copy\n",
    "import json\n",
    "import time\n",
    "import pandas as pd\n",
    "import collections\n",
    "import networkx as nx\n",
    "import matplotlib.pyplot as plt\n",
    "from itertools import combinations, permutations, product\n",
    "\n",
    "%matplotlib inline  "
   ]
  },
  {
   "cell_type": "code",
   "execution_count": 222,
   "metadata": {
    "collapsed": false
   },
   "outputs": [],
   "source": [
    "class BaseGraph:\n",
    "    def __init__(self, inputs):\n",
    "        self.inputs = inputs\n",
    "        self.edge_list = None\n",
    "        self.start_list = None\n",
    "        self.end_list = None\n",
    "        self.graph = nx.Graph() #nx.DiGraph()\n",
    "    \n",
    "    def create_edge_list(self):\n",
    "        # create list of edges\n",
    "        elist = []\n",
    "        for i, val in enumerate(self.inputs['Edges']):\n",
    "            e1 = val['Node1']\n",
    "            e2 = val['Node2']\n",
    "            elist.append((e1, e2, ))\n",
    "            \n",
    "        self.edge_list = elist\n",
    "        \n",
    "    def create_node_list(self):\n",
    "        # Create list of starting and ending nodes\n",
    "        start_list = []\n",
    "        end_list = []\n",
    "        for i, val in enumerate(self.inputs['Nodes']):\n",
    "            if val['NodeType'] == 'Shaft':\n",
    "                start_list.append(val['Id'])\n",
    "            if val['NodeType'] == 'Vav':\n",
    "                end_list.append(val['Id'])\n",
    "                \n",
    "        self.start_list = start_list\n",
    "        self.end_list = end_list\n",
    "        \n",
    "    def add_edges_to_graph(self):\n",
    "        self.graph.add_edges_from(self.edge_list)\n",
    "        \n",
    "    def set_node_demand(self, number, attribute, demand):\n",
    "        self.graph.node[number][attribute] = demand\n",
    "        \n",
    "    def set_airflows(self):\n",
    "        # Create list of nodes and airflow\n",
    "        vav_nodes = [x for x in self.inputs['Nodes'] if x['NodeType'] == 'Vav']\n",
    "        for x in vav_nodes:\n",
    "            for y in self.inputs['Spaces']:\n",
    "                if y['UniqueId'] == x['SpaceId']:\n",
    "                    self.set_node_demand(x['Id'], 'demand', y['Airflow'])\n",
    "        \n",
    "    def print_graph(self):\n",
    "        nx.draw(self.graph, with_labels=True, font_weight='bold')\n",
    "        "
   ]
  },
  {
   "cell_type": "code",
   "execution_count": 223,
   "metadata": {
    "collapsed": true
   },
   "outputs": [],
   "source": [
    "class RouteOptions:\n",
    "    def __init__(self, base_graph, source, targets):\n",
    "        self.base_graph = base_graph\n",
    "        self.source = source\n",
    "        self.targets = targets\n",
    "        self.individual_paths = None\n",
    "        self.path_combinations = None\n",
    "        self.graphs = None\n",
    "        \n",
    "    def create_all_paths_to_each_target(self):\n",
    "        paths = {}\n",
    "        for target in self.targets:\n",
    "            target_key = str(target)\n",
    "            paths.update({target_key: []})\n",
    "            for path in nx.all_simple_paths(self.base_graph, source=self.source, target=target):\n",
    "                paths[target_key].append({\"source\": self.source, \"target\": target, \"path\": path})\n",
    "                \n",
    "        self.individual_paths = paths\n",
    "        \n",
    "    def create_all_path_combinations(self):\n",
    "        # Create list of combinations of paths\n",
    "        path_combinations = []\n",
    "        for target in self.individual_paths:\n",
    "            path_combinations.append(list(range(0, len(self.individual_paths[target]))))\n",
    "\n",
    "        self.path_combinations = list(product(*path_combinations))\n",
    "    \n",
    "    def create_graph_options(self):\n",
    "        # Create new graphs for each combination\n",
    "        final_graphs = []\n",
    "\n",
    "        # Loop for each path combination\n",
    "        for path_combination in self.path_combinations:\n",
    "            new_graph =nx.Graph() # nx.DiGraph()\n",
    "\n",
    "            # Loop for each target\n",
    "            for target_number, target in enumerate(self.targets):\n",
    "                edge_list = []\n",
    "\n",
    "                my_path = self.individual_paths[str(target)][path_combination[target_number]]['path']\n",
    "\n",
    "                # Loop for each node in path\n",
    "                for i in range(0, len(my_path)-1):\n",
    "                    edge_list.append((my_path[i], my_path[i+1]))\n",
    "\n",
    "                G1 = nx.Graph() #nx.DiGraph()\n",
    "                G1.add_edges_from(edge_list)\n",
    "\n",
    "                if target_number > 0:\n",
    "                    new_graph = nx.compose(G1, new_graph)\n",
    "                else:\n",
    "                    new_graph = G1\n",
    "\n",
    "            final_graphs.append(new_graph)\n",
    "\n",
    "        self.graphs = final_graphs\n",
    "        \n",
    "        print('number of graphs: ' + str(len(self.graphs)))\n",
    "\n",
    "    def set_node_demand(self, graph_number, node_number, attribute, demand):\n",
    "        self.graphs[graph_number].node[node_number][attribute] = demand\n",
    "        \n",
    "    def set_terminal_airflows(self, inputs):\n",
    "        # Create list of nodes and airflow\n",
    "        for i, graph in enumerate(self.graphs):\n",
    "            for node in inputs:\n",
    "                if node[1]:\n",
    "                    self.set_node_demand(i, node[0], 'demand', node[1]['demand'])\n",
    "                    \n",
    "    def calculate_airflows(self):\n",
    "        for i, graph in enumerate(self.graphs):\n",
    "            for target in self.targets:\n",
    "                path = nx.shortest_path(graph, source=self.source, target=target)\n",
    "                path.remove(target)\n",
    "                \n",
    "                for node in path:\n",
    "                    if graph.node[target]:\n",
    "                        terminal_demand = graph.node[target]['demand']\n",
    "                    else:\n",
    "                        terminal_demand = 0\n",
    "                        \n",
    "                    if graph.node[node]:\n",
    "                        existing_demand = graph.node[node]['demand']\n",
    "                    else:\n",
    "                        existing_demand = 0\n",
    "                        \n",
    "                    new_demand = existing_demand + terminal_demand\n",
    "                    self.set_node_demand(i, node, 'demand', new_demand)\n",
    "        \n",
    "    def convert_to_direct(self):\n",
    "        for i, graph in enumerate(self.graphs):\n",
    "            self.graphs[i].to_directed()\n",
    "    \n",
    "    def print_graph_options(self):\n",
    "        fig = plt.figure(figsize=(10, 5*(len(self.graphs))))\n",
    "        for i, F in enumerate(self.graphs):\n",
    "            ax = fig.add_subplot(len(self.graphs),1,i+1)\n",
    "            nx.draw(F, with_labels=True, font_weight='bold')\n",
    "\n",
    "        plt.show()"
   ]
  },
  {
   "cell_type": "code",
   "execution_count": 224,
   "metadata": {
    "collapsed": false
   },
   "outputs": [],
   "source": [
    "t_start = time.time()"
   ]
  },
  {
   "cell_type": "code",
   "execution_count": 225,
   "metadata": {
    "collapsed": true
   },
   "outputs": [],
   "source": [
    "#filename = 'Arch Model 3.json'\n",
    "filename = 'Arch Model4.json'"
   ]
  },
  {
   "cell_type": "code",
   "execution_count": 226,
   "metadata": {
    "collapsed": false
   },
   "outputs": [],
   "source": [
    "with open(os.path.join('..', 'models', filename)) as json_data:\n",
    "    inputs = json.load(json_data)"
   ]
  },
  {
   "cell_type": "code",
   "execution_count": 227,
   "metadata": {
    "collapsed": false
   },
   "outputs": [],
   "source": [
    "# Run calclations to create base mesh\n",
    "base_graph = BaseGraph(inputs)\n",
    "base_graph.create_edge_list()\n",
    "base_graph.create_node_list()\n",
    "base_graph.add_edges_to_graph()\n",
    "base_graph.set_airflows()\n",
    "#base_graph.print_graph()\n",
    "\n",
    "#base_graph.graph.nodes(data=True)"
   ]
  },
  {
   "cell_type": "code",
   "execution_count": 228,
   "metadata": {
    "collapsed": false
   },
   "outputs": [
    {
     "name": "stdout",
     "output_type": "stream",
     "text": [
      "155\n",
      "number of graphs: 1\n"
     ]
    },
    {
     "name": "stderr",
     "output_type": "stream",
     "text": [
      "C:\\Users\\jmcneill\\AppData\\Local\\Continuum\\Anaconda3\\lib\\site-packages\\networkx\\drawing\\nx_pylab.py:126: MatplotlibDeprecationWarning: pyplot.hold is deprecated.\n",
      "    Future behavior will be consistent with the long-time default:\n",
      "    plot commands add elements without first clearing the\n",
      "    Axes and/or Figure.\n",
      "  b = plt.ishold()\n",
      "C:\\Users\\jmcneill\\AppData\\Local\\Continuum\\Anaconda3\\lib\\site-packages\\networkx\\drawing\\nx_pylab.py:138: MatplotlibDeprecationWarning: pyplot.hold is deprecated.\n",
      "    Future behavior will be consistent with the long-time default:\n",
      "    plot commands add elements without first clearing the\n",
      "    Axes and/or Figure.\n",
      "  plt.hold(b)\n",
      "C:\\Users\\jmcneill\\AppData\\Local\\Continuum\\Anaconda3\\lib\\site-packages\\matplotlib\\__init__.py:917: UserWarning: axes.hold is deprecated. Please remove it from your matplotlibrc and/or style files.\n",
      "  warnings.warn(self.msg_depr_set % key)\n",
      "C:\\Users\\jmcneill\\AppData\\Local\\Continuum\\Anaconda3\\lib\\site-packages\\matplotlib\\rcsetup.py:152: UserWarning: axes.hold is deprecated, will be removed in 3.0\n",
      "  warnings.warn(\"axes.hold is deprecated, will be removed in 3.0\")\n"
     ]
    },
    {
     "data": {
      "image/png": "[encoded data removed]",
      "text/plain": [
       "<matplotlib.figure.Figure at 0x25dcef35710>"
      ]
     },
     "metadata": {},
     "output_type": "display_data"
    },
    {
     "name": "stdout",
     "output_type": "stream",
     "text": [
      "157\n",
      "number of graphs: 1\n"
     ]
    },
    {
     "data": {
      "image/png": "[encoded data removed]",
      "text/plain": [
       "<matplotlib.figure.Figure at 0x25dcb590be0>"
      ]
     },
     "metadata": {},
     "output_type": "display_data"
    }
   ],
   "source": [
    "# Run calculations to create options\n",
    "\n",
    "route_option_list = []\n",
    "# Loop for each shaft option\n",
    "\n",
    "for start_node in base_graph.start_list:\n",
    "    print(start_node)\n",
    "    route_options = RouteOptions(base_graph.graph, start_node, base_graph.end_list)\n",
    "    route_options.create_all_paths_to_each_target()\n",
    "    route_options.create_all_path_combinations()\n",
    "    route_options.create_graph_options()\n",
    "    route_options.convert_to_direct()\n",
    "    route_options.set_terminal_airflows(base_graph.graph.nodes(data=True))\n",
    "    route_options.calculate_airflows()\n",
    "    route_options.print_graph_options()\n",
    "    \n",
    "    route_option_list.append({'start_node': start_node, 'graph': route_options})"
   ]
  },
  {
   "cell_type": "code",
   "execution_count": 229,
   "metadata": {
    "collapsed": false
   },
   "outputs": [],
   "source": [
    "#route_option_list[0]['graph'].graphs[2].nodes(data=True)"
   ]
  },
  {
   "cell_type": "code",
   "execution_count": 230,
   "metadata": {
    "collapsed": false
   },
   "outputs": [
    {
     "data": {
      "text/plain": [
       "\"\\n# Create list of nodes and airflow\\nnode_airflow_list = []\\n\\nvav_nodes = [x for x in inputs['Nodes'] if x['NodeType'] == 'Vav']\\n#space_Ids = [x['SpaceId'] for x in vav_nodes]\\n#space_Ids\\nfor x in vav_nodes:\\n    for y in inputs['Spaces']:\\n        if y['UniqueId'] == x['SpaceId']:\\n            node_airflow_list.append({'id': x['Id'], 'airflow': y['Airflow']})\\n            \\nprint(node_airflow_list)\\n\""
      ]
     },
     "execution_count": 230,
     "metadata": {},
     "output_type": "execute_result"
    }
   ],
   "source": [
    "\"\"\"\n",
    "# Create list of nodes and airflow\n",
    "node_airflow_list = []\n",
    "\n",
    "vav_nodes = [x for x in inputs['Nodes'] if x['NodeType'] == 'Vav']\n",
    "#space_Ids = [x['SpaceId'] for x in vav_nodes]\n",
    "#space_Ids\n",
    "for x in vav_nodes:\n",
    "    for y in inputs['Spaces']:\n",
    "        if y['UniqueId'] == x['SpaceId']:\n",
    "            node_airflow_list.append({'id': x['Id'], 'airflow': y['Airflow']})\n",
    "            \n",
    "print(node_airflow_list)\n",
    "\"\"\""
   ]
  },
  {
   "cell_type": "code",
   "execution_count": 231,
   "metadata": {
    "collapsed": false
   },
   "outputs": [
    {
     "name": "stdout",
     "output_type": "stream",
     "text": [
      "time elapsed: 0.4341259002685547\n"
     ]
    }
   ],
   "source": [
    "t_stop = time.time()\n",
    "print('time elapsed: ' + str(t_stop - t_start))"
   ]
  },
  {
   "cell_type": "code",
   "execution_count": 232,
   "metadata": {
    "collapsed": false
   },
   "outputs": [],
   "source": [
    "# Print the edges for the final_graphs\n",
    "#for final_graph in final_graphs:\n",
    "#    print(final_graph.edges())"
   ]
  },
  {
   "cell_type": "code",
   "execution_count": 233,
   "metadata": {
    "collapsed": false
   },
   "outputs": [
    {
     "data": {
      "text/plain": [
       "'\\n# Find and remove closed loop solutions\\n\\n# Determine closed loops\\nG = final_graphs[0]\\nDG = nx.DiGraph(G)\\nsimple_cycles = list(nx.simple_cycles(DG))\\nsimple_cycles = [x for x in simple_cycles if len(x) > 2]\\n\\nfor closed_loop in simple_cycles:\\n    # Loop for each node in path\\n    closed_loop_list = []\\n    closed_loop = simple_cycles[0]\\n    for i in range(0, len(closed_loop)-1):\\n        closed_loop_list.append((closed_loop[i], closed_loop[i+1]))\\n    closed_loop_list.insert(0, (0, 1))    \\n\\n    # Remove graph if it matches cycle\\n    for i, final_graph in enumerate(final_graphs):\\n        #print(my_closed_loop)\\n        if final_graphs[i].edges() == closed_loop_list:\\n            final_graphs.remove(final_graph)\\n'"
      ]
     },
     "execution_count": 233,
     "metadata": {},
     "output_type": "execute_result"
    }
   ],
   "source": [
    "\"\"\"\n",
    "# Find and remove closed loop solutions\n",
    "\n",
    "# Determine closed loops\n",
    "G = final_graphs[0]\n",
    "DG = nx.DiGraph(G)\n",
    "simple_cycles = list(nx.simple_cycles(DG))\n",
    "simple_cycles = [x for x in simple_cycles if len(x) > 2]\n",
    "\n",
    "for closed_loop in simple_cycles:\n",
    "    # Loop for each node in path\n",
    "    closed_loop_list = []\n",
    "    closed_loop = simple_cycles[0]\n",
    "    for i in range(0, len(closed_loop)-1):\n",
    "        closed_loop_list.append((closed_loop[i], closed_loop[i+1]))\n",
    "    closed_loop_list.insert(0, (0, 1))    \n",
    "\n",
    "    # Remove graph if it matches cycle\n",
    "    for i, final_graph in enumerate(final_graphs):\n",
    "        #print(my_closed_loop)\n",
    "        if final_graphs[i].edges() == closed_loop_list:\n",
    "            final_graphs.remove(final_graph)\n",
    "\"\"\""
   ]
  },
  {
   "cell_type": "code",
   "execution_count": null,
   "metadata": {
    "collapsed": true
   },
   "outputs": [],
   "source": []
  }
 ],
 "metadata": {
  "kernelspec": {
   "display_name": "Python 3",
   "language": "python",
   "name": "python3"
  },
  "language_info": {
   "codemirror_mode": {
    "name": "ipython",
    "version": 3
   },
   "file_extension": ".py",
   "mimetype": "text/x-python",
   "name": "python",
   "nbconvert_exporter": "python",
   "pygments_lexer": "ipython3",
   "version": "3.6.0"
  }
 },
 "nbformat": 4,
 "nbformat_minor": 2
}
